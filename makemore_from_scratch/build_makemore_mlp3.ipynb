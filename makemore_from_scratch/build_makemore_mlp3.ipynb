{
 "cells": [
  {
   "cell_type": "code",
   "execution_count": 1,
   "id": "2be4625a",
   "metadata": {},
   "outputs": [],
   "source": [
    "import torch\n",
    "import torch.nn.functional as F\n",
    "import matplotlib.pyplot as plt\n",
    "%matplotlib inline"
   ]
  },
  {
   "cell_type": "code",
   "execution_count": 2,
   "id": "e5fc866a",
   "metadata": {},
   "outputs": [
    {
     "name": "stdout",
     "output_type": "stream",
     "text": [
      "['emma', 'olivia', 'ava', 'isabella', 'sophia', 'charlotte', 'mia', 'amelia']\n",
      "32033\n"
     ]
    }
   ],
   "source": [
    "# read in all the words\n",
    "words = open('names.txt', 'r').read().splitlines()\n",
    "print(words[:8])\n",
    "print(len(words))"
   ]
  },
  {
   "cell_type": "code",
   "execution_count": 3,
   "id": "cacc9121",
   "metadata": {},
   "outputs": [
    {
     "name": "stdout",
     "output_type": "stream",
     "text": [
      "{1: 'a', 2: 'b', 3: 'c', 4: 'd', 5: 'e', 6: 'f', 7: 'g', 8: 'h', 9: 'i', 10: 'j', 11: 'k', 12: 'l', 13: 'm', 14: 'n', 15: 'o', 16: 'p', 17: 'q', 18: 'r', 19: 's', 20: 't', 21: 'u', 22: 'v', 23: 'w', 24: 'x', 25: 'y', 26: 'z', 0: '.'}\n"
     ]
    }
   ],
   "source": [
    "# Build the vocabulary\n",
    "chars = sorted(list(set(''.join(words))))\n",
    "stoi = {s:i+1 for i,s in enumerate(chars)}\n",
    "stoi['.'] = 0\n",
    "itos = {i:s for s,i in stoi.items()}\n",
    "\n",
    "vocab_size = len(stoi)\n",
    "\n",
    "print ( itos )"
   ]
  },
  {
   "cell_type": "code",
   "execution_count": 4,
   "id": "b91aec1c",
   "metadata": {},
   "outputs": [
    {
     "name": "stdout",
     "output_type": "stream",
     "text": [
      "torch.Size([182625, 3]) torch.Size([182625])\n",
      "torch.Size([22655, 3]) torch.Size([22655])\n",
      "torch.Size([22866, 3]) torch.Size([22866])\n"
     ]
    }
   ],
   "source": [
    "# Build the dataset\n",
    "block_size = 3\n",
    "\n",
    "def build_dataset(words):\n",
    "    X,Y = [], []\n",
    "    for w in words:\n",
    "        context = [0] * block_size\n",
    "        for ch in w + '.':\n",
    "            ix = stoi[ch]\n",
    "            X.append(context)\n",
    "            Y.append(ix)\n",
    "            context = context[1:] + [ix]\n",
    "\n",
    "    X = torch.tensor(X)\n",
    "    Y = torch.tensor(Y)\n",
    "    print(X.shape, Y.shape)\n",
    "    return X, Y\n",
    "\n",
    "import random\n",
    "random.seed(42)\n",
    "random.shuffle(words)\n",
    "n1 = int(0.8*len(words))\n",
    "n2 = int(0.9*len(words))\n",
    "\n",
    "Xtr,Ytr = build_dataset(words[:n1])\n",
    "Xdev,Ydev = build_dataset(words[n1:n2])\n",
    "Xte,Yte = build_dataset(words[n2:])"
   ]
  },
  {
   "cell_type": "code",
   "execution_count": 5,
   "id": "7645b4dc",
   "metadata": {},
   "outputs": [],
   "source": [
    "def cmp(s,dt,t):\n",
    "    assert dt.shape==t.grad.shape, \"Inputs must have same size\"\n",
    "    ex = torch.all(dt==t.grad).item()\n",
    "    app = torch.allclose(dt,t.grad)\n",
    "    maxdiff = (dt - t.grad).abs().max().item()\n",
    "    print ( f'{s:15s}, exact: {str(ex):5s}, approximate: {str(app):5s}, maxdiff: {maxdiff}')\n"
   ]
  },
  {
   "cell_type": "code",
   "execution_count": 6,
   "id": "dcc34f9e",
   "metadata": {},
   "outputs": [
    {
     "name": "stdout",
     "output_type": "stream",
     "text": [
      "4137\n"
     ]
    }
   ],
   "source": [
    "# Init the parameters\n",
    "\n",
    "n_embed = 10\n",
    "n_hidden = 64\n",
    "\n",
    "g = torch.Generator().manual_seed(2147483647)\n",
    "C = torch.randn((vocab_size,n_embed), generator=g)\n",
    " \n",
    "W1 = torch.rand((n_embed*block_size,n_hidden), generator=g) * (5/3) / ((n_embed*block_size)**0.5)\n",
    "b1 = torch.randn(n_hidden, generator=g) * 0.1\n",
    "\n",
    "W2 = torch.randn((n_hidden,vocab_size), generator=g) * 0.1\n",
    "b2 = torch.randn(vocab_size, generator=g) * 0.1\n",
    "\n",
    "bngain = torch.randn((1,n_hidden))*0.1 + 1.0\n",
    "bnbias = torch.randn((1,n_hidden))*0.1\n",
    "\n",
    "parameters = [C, W1, b1, W2, b2, bngain, bnbias]\n",
    "\n",
    "bnmean_running = torch.zeros((1,n_hidden))\n",
    "bnstd_running = torch.ones((1,n_hidden))\n",
    "\n",
    "for p in parameters:\n",
    "    p.requires_grad = True\n",
    "    \n",
    "print(sum(p.nelement() for p in parameters))"
   ]
  },
  {
   "cell_type": "code",
   "execution_count": 7,
   "id": "370de118",
   "metadata": {},
   "outputs": [],
   "source": [
    "batch_size = 32\n",
    "n = batch_size\n",
    "\n",
    "ix = torch.randint(0,Xtr.shape[0], (batch_size,), generator=g)\n",
    "Xb,Yb = Xtr[ix], Ytr[ix]"
   ]
  },
  {
   "cell_type": "code",
   "execution_count": 8,
   "id": "e0a65f79",
   "metadata": {
    "scrolled": true
   },
   "outputs": [
    {
     "data": {
      "text/plain": [
       "tensor(3.4063, grad_fn=<NegBackward0>)"
      ]
     },
     "execution_count": 8,
     "metadata": {},
     "output_type": "execute_result"
    }
   ],
   "source": [
    "emb = C[Xb]\n",
    "embcat = emb.view(emb.shape[0], -1)\n",
    "\n",
    "hprebn = embcat @ W1 + b1\n",
    "hprebn.retain_grad() # Not shure why I had to put this on this one only....\n",
    "\n",
    "bnmeani = 1/n*hprebn.sum(0, keepdim=True)\n",
    "bndiff = hprebn - bnmeani\n",
    "bndiff2 = bndiff**2\n",
    "bnvar = 1/(n-1)*bndiff2.sum(0,keepdim=True)\n",
    "bnvar_inv = (bnvar + 1e-5)**-0.5\n",
    "bnraw = bndiff * bnvar_inv\n",
    "\n",
    "hpreact = bngain*bnraw + bnbias\n",
    "\n",
    "h = torch.tanh(hpreact)\n",
    "\n",
    "logits = h @ W2 + b2\n",
    "\n",
    "logit_maxes = logits.max(1, keepdim=True).values\n",
    "norm_logits = logits - logit_maxes\n",
    "\n",
    "counts = norm_logits.exp()\n",
    "counts_sum = counts.sum(1, keepdims=True)\n",
    "counts_sum_inv = counts_sum**-1\n",
    "probs = counts * counts_sum_inv\n",
    "logprobs = probs.log()\n",
    "loss = -logprobs[range(n), Yb].mean()\n",
    "\n",
    "#Pytorch backwards\n",
    "for p in parameters:\n",
    "    p.grad = None\n",
    "\n",
    "for t in [logprobs,probs,counts,counts_sum,counts_sum_inv,\n",
    "         norm_logits, logit_maxes, logits, h, hpreact, bnraw,\n",
    "         bnvar_inv, bnvar, bndiff2, bndiff, bnmeani, embcat, emb]:\n",
    "    t.retain_grad()\n",
    "\n",
    "loss.backward()\n",
    "loss    "
   ]
  },
  {
   "cell_type": "code",
   "execution_count": 9,
   "id": "932c7f42",
   "metadata": {},
   "outputs": [
    {
     "name": "stdout",
     "output_type": "stream",
     "text": [
      "logprobs       , exact: True , approximate: True , maxdiff: 0.0\n",
      "probs          , exact: True , approximate: True , maxdiff: 0.0\n",
      "counts_sum_inv , exact: True , approximate: True , maxdiff: 0.0\n",
      "counts_sum     , exact: True , approximate: True , maxdiff: 0.0\n",
      "counts         , exact: True , approximate: True , maxdiff: 0.0\n",
      "norm_logits    , exact: True , approximate: True , maxdiff: 0.0\n",
      "logit_maxes    , exact: True , approximate: True , maxdiff: 0.0\n",
      "logits         , exact: True , approximate: True , maxdiff: 0.0\n",
      "h              , exact: True , approximate: True , maxdiff: 0.0\n",
      "W2             , exact: True , approximate: True , maxdiff: 0.0\n",
      "b2             , exact: True , approximate: True , maxdiff: 0.0\n",
      "h              , exact: True , approximate: True , maxdiff: 0.0\n",
      "bngain         , exact: True , approximate: True , maxdiff: 0.0\n",
      "bnraw          , exact: True , approximate: True , maxdiff: 0.0\n",
      "bnbias         , exact: True , approximate: True , maxdiff: 0.0\n",
      "bnvar_inv      , exact: True , approximate: True , maxdiff: 0.0\n",
      "bnvar          , exact: True , approximate: True , maxdiff: 0.0\n",
      "bndiff2        , exact: True , approximate: True , maxdiff: 0.0\n",
      "bndiff         , exact: True , approximate: True , maxdiff: 0.0\n",
      "bnmeani        , exact: True , approximate: True , maxdiff: 0.0\n",
      "hprebn         , exact: True , approximate: True , maxdiff: 0.0\n",
      "embcat         , exact: True , approximate: True , maxdiff: 0.0\n",
      "W1             , exact: True , approximate: True , maxdiff: 0.0\n",
      "b1             , exact: True , approximate: True , maxdiff: 0.0\n",
      "emb            , exact: True , approximate: True , maxdiff: 0.0\n",
      "C              , exact: True , approximate: True , maxdiff: 0.0\n"
     ]
    }
   ],
   "source": [
    "dlogprobs = torch.zeros_like(logprobs)\n",
    "dlogprobs[range(n), Yb] = -1.0/n\n",
    "dprobs = probs**-1 * dlogprobs\n",
    "dcounts_sum_inv = (counts * dprobs).sum(1,keepdim=True)\n",
    "dcounts_sum = -counts_sum**-2 * dcounts_sum_inv\n",
    "dcounts = counts_sum_inv * dprobs + torch.ones_like(counts) * dcounts_sum \n",
    "dnorm_logits = norm_logits.exp() * dcounts\n",
    "dlogit_maxes = -dnorm_logits.sum(1,keepdim=True)\n",
    "dlogits = 1 * dnorm_logits.clone() + F.one_hot(logits.max(1).indices, num_classes=logits.shape[1]) * dlogit_maxes\n",
    "dh = dlogits @ W2.T\n",
    "dW2 = h.T @ dlogits\n",
    "db2 = dlogits.sum(0)\n",
    "dhpreact = (1-h**2)*dh \n",
    "dbngain = (bnraw*dhpreact).sum(0, keepdim=True)\n",
    "dbnraw = bngain*dhpreact\n",
    "dbnbias = dhpreact.sum(0,keepdim=True)\n",
    "dbnvar_inv = (bndiff*dbnraw).sum(0,keepdim=True)\n",
    "dbnvar = -0.5*(bnvar+1e-5)**-1.5*dbnvar_inv\n",
    "dbndiff2 = 1/(n-1)*torch.ones_like(bndiff2)*dbnvar\n",
    "dbndiff = bnvar_inv*dbnraw + 2*bndiff*dbndiff2\n",
    "dbnmeani = -dbndiff.sum(0,keepdim=True)\n",
    "dhprebn = dbndiff.clone() + 1/n*dbnmeani*torch.ones_like(hprebn)\n",
    "dembcat = dhprebn @ W1.T\n",
    "dW1 = embcat.T @ dhprebn\n",
    "db1 = dhprebn.sum(0)\n",
    "demb = dembcat.view(emb.shape)\n",
    "\n",
    "dC = torch.zeros_like(C)\n",
    "for k in range(Xb.shape[0]):\n",
    "    for j in range(Xb.shape[1]):\n",
    "        ix = Xb[k,j]\n",
    "        dC[ix] += demb[k,j]        \n",
    "\n",
    "cmp( 'logprobs', dlogprobs, logprobs )\n",
    "cmp( 'probs', dprobs, probs )\n",
    "cmp( 'counts_sum_inv', dcounts_sum_inv, counts_sum_inv )\n",
    "cmp( 'counts_sum', dcounts_sum, counts_sum )\n",
    "cmp( 'counts', dcounts, counts )\n",
    "cmp( 'norm_logits', dnorm_logits, norm_logits )\n",
    "cmp( 'logit_maxes', dlogit_maxes, logit_maxes )\n",
    "cmp( 'logits', dlogits, logits )\n",
    "cmp( 'h', dh, h )\n",
    "cmp( 'W2', dW2, W2 )\n",
    "cmp( 'b2', db2, b2 )\n",
    "cmp( 'h', dh, h )\n",
    "cmp( 'bngain', dbngain, bngain )\n",
    "cmp( 'bnraw', dbnraw, bnraw )\n",
    "cmp( 'bnbias', dbnbias, bnbias )\n",
    "cmp( 'bnvar_inv', dbnvar_inv, bnvar_inv )\n",
    "cmp( 'bnvar', dbnvar, bnvar )\n",
    "cmp( 'bndiff2', dbndiff2, bndiff2 )\n",
    "cmp( 'bndiff', dbndiff, bndiff )\n",
    "cmp( 'bnmeani', dbnmeani, bnmeani )\n",
    "cmp( 'hprebn', dhprebn, hprebn )\n",
    "cmp( 'embcat', dembcat, embcat )\n",
    "cmp( 'W1', dW1, W1 )\n",
    "cmp( 'b1', db1, b1 )\n",
    "cmp( 'emb', demb, emb)\n",
    "cmp( 'C', dC, C)\n"
   ]
  },
  {
   "cell_type": "code",
   "execution_count": null,
   "id": "a4f09aed",
   "metadata": {},
   "outputs": [],
   "source": [
    "# Simplify the loss function"
   ]
  },
  {
   "cell_type": "code",
   "execution_count": 15,
   "id": "049a830e",
   "metadata": {},
   "outputs": [
    {
     "name": "stdout",
     "output_type": "stream",
     "text": [
      "3.406278371810913 diff:  -2.384185791015625e-07\n"
     ]
    }
   ],
   "source": [
    "#Forward pass\n",
    "loss_fast = F.cross_entropy(logits,Yb)\n",
    "print ( loss_fast.item(), 'diff: ', (loss_fast - loss).item())"
   ]
  },
  {
   "cell_type": "code",
   "execution_count": 19,
   "id": "af64f2b8",
   "metadata": {},
   "outputs": [
    {
     "name": "stdout",
     "output_type": "stream",
     "text": [
      "logits         , exact: False, approximate: True , maxdiff: 6.984919309616089e-09\n"
     ]
    }
   ],
   "source": [
    "# Backwards pass\n",
    "dlogits = F.softmax(logits,1)\n",
    "dlogits[range(n),Yb] -= 1\n",
    "dlogits /= n\n",
    "\n",
    "\n",
    "cmp( 'logits', dlogits, logits)"
   ]
  },
  {
   "cell_type": "code",
   "execution_count": 22,
   "id": "db7c9aa8",
   "metadata": {},
   "outputs": [
    {
     "data": {
      "image/png": "[encoded data removed]",
      "text/plain": [
       "<Figure size 800x800 with 1 Axes>"
      ]
     },
     "metadata": {},
     "output_type": "display_data"
    }
   ],
   "source": [
    "plt.figure(figsize=(8,8))\n",
    "plt.imshow(dlogits.detach(), cmap='gray');"
   ]
  },
  {
   "cell_type": "code",
   "execution_count": 39,
   "id": "fc666a27",
   "metadata": {},
   "outputs": [
    {
     "name": "stdout",
     "output_type": "stream",
     "text": [
      "max diff: tensor(4.7684e-07, grad_fn=<MaxBackward1>)\n"
     ]
    }
   ],
   "source": [
    "# Excercise 3: Backprop through batchnorm\n",
    "\n",
    "# Forward pass\n",
    "hpreact_fast = bngain * (hprebn - hprebn.mean(0, keepdim=True)) / torch.sqrt(hprebn.var(0, keepdim=True, unbiased=True) + 1e-5) + bnbias\n",
    "print('max diff:', (hpreact_fast - hpreact).abs().max())"
   ]
  },
  {
   "cell_type": "code",
   "execution_count": 40,
   "id": "e93b4383",
   "metadata": {},
   "outputs": [
    {
     "name": "stdout",
     "output_type": "stream",
     "text": [
      "hprebn         , exact: False, approximate: True , maxdiff: 1.3969838619232178e-09\n"
     ]
    }
   ],
   "source": [
    "# Backward pass\n",
    "dhprebn = bngain * bnvar_inv / n * (n*dhpreact - dhpreact.sum(0) - n/(n-1)*bnraw*(dhpreact*bnraw).sum(0))\n",
    "cmp( 'hprebn', dhprebn, hprebn)"
   ]
  }
 ],
 "metadata": {
  "kernelspec": {
   "display_name": "Python 3 (ipykernel)",
   "language": "python",
   "name": "python3"
  },
  "language_info": {
   "codemirror_mode": {
    "name": "ipython",
    "version": 3
   },
   "file_extension": ".py",
   "mimetype": "text/x-python",
   "name": "python",
   "nbconvert_exporter": "python",
   "pygments_lexer": "ipython3",
   "version": "3.11.4"
  }
 },
 "nbformat": 4,
 "nbformat_minor": 5
}
