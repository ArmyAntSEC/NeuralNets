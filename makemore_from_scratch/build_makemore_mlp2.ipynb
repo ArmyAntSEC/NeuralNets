{
 "cells": [
  {
   "cell_type": "code",
   "execution_count": 1,
   "id": "2be4625a",
   "metadata": {},
   "outputs": [],
   "source": [
    "import torch\n",
    "import torch.nn.functional as F\n",
    "import matplotlib.pyplot as plt\n",
    "%matplotlib inline"
   ]
  },
  {
   "cell_type": "code",
   "execution_count": 2,
   "id": "e5fc866a",
   "metadata": {},
   "outputs": [
    {
     "name": "stdout",
     "output_type": "stream",
     "text": [
      "['emma', 'olivia', 'ava', 'isabella', 'sophia', 'charlotte', 'mia', 'amelia']\n",
      "32033\n"
     ]
    }
   ],
   "source": [
    "# read in all the words\n",
    "words = open('names.txt', 'r').read().splitlines()\n",
    "print(words[:8])\n",
    "print(len(words))"
   ]
  },
  {
   "cell_type": "code",
   "execution_count": 3,
   "id": "cacc9121",
   "metadata": {},
   "outputs": [
    {
     "name": "stdout",
     "output_type": "stream",
     "text": [
      "{1: 'a', 2: 'b', 3: 'c', 4: 'd', 5: 'e', 6: 'f', 7: 'g', 8: 'h', 9: 'i', 10: 'j', 11: 'k', 12: 'l', 13: 'm', 14: 'n', 15: 'o', 16: 'p', 17: 'q', 18: 'r', 19: 's', 20: 't', 21: 'u', 22: 'v', 23: 'w', 24: 'x', 25: 'y', 26: 'z', 0: '.'}\n"
     ]
    }
   ],
   "source": [
    "# Build the vocabulary\n",
    "chars = sorted(list(set(''.join(words))))\n",
    "stoi = {s:i+1 for i,s in enumerate(chars)}\n",
    "stoi['.'] = 0\n",
    "itos = {i:s for s,i in stoi.items()}\n",
    "\n",
    "vocab_size = len(stoi)\n",
    "\n",
    "print ( itos )"
   ]
  },
  {
   "cell_type": "code",
   "execution_count": 4,
   "id": "b91aec1c",
   "metadata": {},
   "outputs": [
    {
     "name": "stdout",
     "output_type": "stream",
     "text": [
      "torch.Size([182625, 3]) torch.Size([182625])\n",
      "torch.Size([22655, 3]) torch.Size([22655])\n",
      "torch.Size([22866, 3]) torch.Size([22866])\n"
     ]
    }
   ],
   "source": [
    "# Build the dataset\n",
    "block_size = 3\n",
    "\n",
    "def build_dataset(words):\n",
    "    X,Y = [], []\n",
    "    for w in words:\n",
    "        context = [0] * block_size\n",
    "        for ch in w + '.':\n",
    "            ix = stoi[ch]\n",
    "            X.append(context)\n",
    "            Y.append(ix)\n",
    "            context = context[1:] + [ix]\n",
    "\n",
    "    X = torch.tensor(X)\n",
    "    Y = torch.tensor(Y)\n",
    "    print(X.shape, Y.shape)\n",
    "    return X, Y\n",
    "\n",
    "import random\n",
    "random.seed(42)\n",
    "random.shuffle(words)\n",
    "n1 = int(0.8*len(words))\n",
    "n2 = int(0.9*len(words))\n",
    "\n",
    "Xtr,Ytr = build_dataset(words[:n1])\n",
    "Xdev,Ydev = build_dataset(words[n1:n2])\n",
    "Xte,Yte = build_dataset(words[n2:])"
   ]
  },
  {
   "cell_type": "code",
   "execution_count": 5,
   "id": "d97ffd88",
   "metadata": {},
   "outputs": [
    {
     "data": {
      "text/plain": [
       "11897"
      ]
     },
     "execution_count": 5,
     "metadata": {},
     "output_type": "execute_result"
    }
   ],
   "source": [
    "# Init the parameters\n",
    "\n",
    "n_embed = 10\n",
    "n_hidden = 200\n",
    "\n",
    "g = torch.Generator().manual_seed(2147483647)\n",
    "C = torch.randn((vocab_size,n_embed), generator=g)\n",
    "W1 = torch.rand((n_embed*block_size,n_hidden), generator=g) * 0.1\n",
    "b1 = torch.randn((n_hidden), generator=g) * 0.01\n",
    "W2 = torch.randn((n_hidden,vocab_size), generator=g) * 0.01\n",
    "b2 = torch.randn(vocab_size, generator=g) * 0\n",
    "parameters = [C, W1, b1, W2, b2]\n",
    "\n",
    "for p in parameters:\n",
    "    p.requires_grad = True\n",
    "    \n",
    "sum(p.nelement() for p in parameters)"
   ]
  },
  {
   "cell_type": "code",
   "execution_count": 6,
   "id": "0f219606",
   "metadata": {},
   "outputs": [
    {
     "name": "stdout",
     "output_type": "stream",
     "text": [
      "      0/ 200000: 3.2843\n",
      "  10000/ 200000: 2.1754\n",
      "  20000/ 200000: 2.0029\n",
      "  30000/ 200000: 2.4850\n",
      "  40000/ 200000: 2.2604\n",
      "  50000/ 200000: 1.9757\n",
      "  60000/ 200000: 1.6257\n",
      "  70000/ 200000: 2.5106\n",
      "  80000/ 200000: 1.6836\n",
      "  90000/ 200000: 2.3828\n",
      " 100000/ 200000: 2.2367\n",
      " 110000/ 200000: 2.3063\n",
      " 120000/ 200000: 1.6502\n",
      " 130000/ 200000: 2.0361\n",
      " 140000/ 200000: 2.2512\n",
      " 150000/ 200000: 1.8978\n",
      " 160000/ 200000: 1.8471\n",
      " 170000/ 200000: 1.8883\n",
      " 180000/ 200000: 2.0192\n",
      " 190000/ 200000: 2.1342\n"
     ]
    }
   ],
   "source": [
    "# Forward pass\n",
    "losses = []\n",
    "steps = []\n",
    "batch_size = 32\n",
    "max_steps = 200000\n",
    "for i in range(max_steps):\n",
    "    \n",
    "    ix = torch.randint(0,Xtr.shape[0],(batch_size,))\n",
    "    Xb,Yb = Xtr[ix], Ytr[ix]\n",
    "\n",
    "    emb = C[Xb]\n",
    "    embcat = emb.view(emb.shape[0], -1)\n",
    "    hpreact = embcat @ W1 + b1\n",
    "    h = torch.tanh(hpreact)\n",
    "    logits = h @ W2 + b2\n",
    "    loss = F.cross_entropy( logits, Ytr[ix] )\n",
    "\n",
    "    # Backwards pass\n",
    "    for p in parameters:\n",
    "        p.grad = None \n",
    "    loss.backward()\n",
    "\n",
    "    ## Update\n",
    "    lr = 0.1 if i < 100000 else 0.01\n",
    "    for p in parameters:\n",
    "        p.data += -lr * p.grad\n",
    "    \n",
    "    losses.append(loss.log10().item())\n",
    "    steps.append(i)\n",
    "    \n",
    "    if i % 10000 == 0:\n",
    "        print ( f'{i:7d}/{max_steps:7d}: {loss.item():0.4f}' )"
   ]
  },
  {
   "cell_type": "code",
   "execution_count": 7,
   "id": "13aaca62",
   "metadata": {},
   "outputs": [
    {
     "name": "stdout",
     "output_type": "stream",
     "text": [
      "2.0885884761810303\n"
     ]
    },
    {
     "data": {
      "image/png": "[encoded data removed]",
      "text/plain": [
       "<Figure size 640x480 with 1 Axes>"
      ]
     },
     "metadata": {},
     "output_type": "display_data"
    }
   ],
   "source": [
    "plt.plot( steps, losses )\n",
    "\n",
    "# Print loss over dev dataset\n",
    "emb = C[Xtr]\n",
    "embcat = emb.view(emb.shape[0], -1)\n",
    "h = torch.tanh(embcat @ W1 + b1)\n",
    "logits = h @ W2 + b2\n",
    "loss = F.cross_entropy( logits, Ytr )\n",
    "print ( loss.item() )"
   ]
  },
  {
   "cell_type": "code",
   "execution_count": 8,
   "id": "3b18e845",
   "metadata": {},
   "outputs": [
    {
     "name": "stdout",
     "output_type": "stream",
     "text": [
      "2.0885884761810303\n",
      "2.127884864807129\n",
      "2.1255300045013428\n"
     ]
    }
   ],
   "source": [
    "# Print loss over all datasets\n",
    "@torch.no_grad()\n",
    "def split_loss( split ):\n",
    "    X,Y = {\n",
    "        'train': (Xtr,Ytr),\n",
    "        'val': (Xdev,Ydev),\n",
    "        'test': (Xte,Yte)\n",
    "    }[split]\n",
    "    \n",
    "    emb = C[X]\n",
    "    embcat = emb.view(emb.shape[0], -1)\n",
    "    h = torch.tanh(embcat @ W1 + b1)\n",
    "    logits = h @ W2 + b2\n",
    "    loss = F.cross_entropy( logits, Y )\n",
    "    print ( loss.item() )\n",
    "    \n",
    "split_loss( 'train' )\n",
    "split_loss( 'val' )\n",
    "split_loss( 'test' )"
   ]
  },
  {
   "cell_type": "code",
   "execution_count": 9,
   "id": "e2593d30",
   "metadata": {},
   "outputs": [
    {
     "name": "stdout",
     "output_type": "stream",
     "text": [
      "junide.\n",
      "janasir.\n",
      "presayven.\n",
      "makshir.\n",
      "tophia.\n",
      "juez.\n",
      "kalinaauriana.\n",
      "vias.\n",
      "dedailetie.\n",
      "les.\n",
      "jaiely.\n",
      "arte.\n",
      "fartum.\n",
      "kyn.\n",
      "demmere.\n",
      "nastinoriann.\n",
      "core.\n",
      "yaelon.\n",
      "kaelandreed.\n",
      "miki.\n"
     ]
    }
   ],
   "source": [
    "g = torch.Generator().manual_seed(2147483647)\n",
    "                                  \n",
    "for _ in range(20):\n",
    "    out = []\n",
    "    context = [0] * block_size\n",
    "    while True:\n",
    "        emb = C[torch.tensor([context])]\n",
    "        h = torch.tanh(emb.view(-1,30) @ W1 + b1)\n",
    "        logits = h @ W2 + b2\n",
    "        probs = F.softmax(logits, dim=1)\n",
    "        ix = torch.multinomial(probs,num_samples=1,generator=g).item()\n",
    "        context = context[1:] + [ix]\n",
    "        out.append(ix)\n",
    "        if ( ix == 0 ):\n",
    "            break\n",
    "    print( ''.join(itos[i] for i in out))\n",
    "                  "
   ]
  },
  {
   "cell_type": "code",
   "execution_count": 10,
   "id": "e0a65f79",
   "metadata": {},
   "outputs": [],
   "source": [
    "#https://youtu.be/P6sfmUTpUmc?t=1696"
   ]
  }
 ],
 "metadata": {
  "kernelspec": {
   "display_name": "Python 3 (ipykernel)",
   "language": "python",
   "name": "python3"
  },
  "language_info": {
   "codemirror_mode": {
    "name": "ipython",
    "version": 3
   },
   "file_extension": ".py",
   "mimetype": "text/x-python",
   "name": "python",
   "nbconvert_exporter": "python",
   "pygments_lexer": "ipython3",
   "version": "3.11.4"
  }
 },
 "nbformat": 4,
 "nbformat_minor": 5
}
